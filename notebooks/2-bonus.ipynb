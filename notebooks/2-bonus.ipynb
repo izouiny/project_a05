{
 "cells": [
  {
   "cell_type": "code",
   "execution_count": 5,
   "metadata": {},
   "outputs": [
    {
     "data": {
      "application/vnd.jupyter.widget-view+json": {
       "model_id": "e80297eb49514effb5af49ef2d75869a",
       "version_major": 2,
       "version_minor": 0
      },
      "text/plain": [
       "Dropdown(description='Saison:', options=(2016, 2017, 2018, 2019, 2020, 2021, 2022, 2023), value=2016)"
      ]
     },
     "metadata": {},
     "output_type": "display_data"
    },
    {
     "data": {
      "application/vnd.jupyter.widget-view+json": {
       "model_id": "59a8e2575a524ba69dcb1b37bf074b3f",
       "version_major": 2,
       "version_minor": 0
      },
      "text/plain": [
       "Dropdown(description='Season Type:', options={'All': 'all', 'Regular Season': '02', 'Playoffs': '03'}, value='…"
      ]
     },
     "metadata": {},
     "output_type": "display_data"
    },
    {
     "data": {
      "application/vnd.jupyter.widget-view+json": {
       "model_id": "744c34420e274861a0b7b2fdbb8b425d",
       "version_major": 2,
       "version_minor": 0
      },
      "text/plain": [
       "IntSlider(value=0, description='Match:')"
      ]
     },
     "metadata": {},
     "output_type": "display_data"
    },
    {
     "data": {
      "application/vnd.jupyter.widget-view+json": {
       "model_id": "f76a660623ab4536b77d9e42fdc2a753",
       "version_major": 2,
       "version_minor": 0
      },
      "text/plain": [
       "Output()"
      ]
     },
     "metadata": {},
     "output_type": "display_data"
    },
    {
     "data": {
      "application/vnd.jupyter.widget-view+json": {
       "model_id": "a7e9a2d848f3437caf2b13fe76d5da26",
       "version_major": 2,
       "version_minor": 0
      },
      "text/plain": [
       "Output()"
      ]
     },
     "metadata": {},
     "output_type": "display_data"
    },
    {
     "data": {
      "application/vnd.jupyter.widget-view+json": {
       "model_id": "44ab20f1477a414d908329d8885d0173",
       "version_major": 2,
       "version_minor": 0
      },
      "text/plain": [
       "Output()"
      ]
     },
     "metadata": {},
     "output_type": "display_data"
    }
   ],
   "source": [
    "import os\n",
    "import json\n",
    "import ipywidgets as widgets\n",
    "from IPython.display import clear_output, display\n",
    "import matplotlib.pyplot as plt\n",
    "import matplotlib.image as mpimg\n",
    "\n",
    "data_folder = '../ift6758/data/storage/dump/'\n",
    "rink_image_path = '../figures/nhl_rink.png'\n",
    "\n",
    "rink_width = 800\n",
    "rink_height = 400\n",
    "\n",
    "rink_x_min, rink_x_max = -100, 100\n",
    "rink_y_min, rink_y_max = -42.5, 42.5\n",
    "\n",
    "def load_season_data(season):\n",
    "    file_path = os.path.join(data_folder, f\"{season}.json\")\n",
    "    with open(file_path, 'r') as f:\n",
    "        data = json.load(f)\n",
    "    return data\n",
    "\n",
    "def filter_games_by_type(data, season_type):\n",
    "    \"\"\"\n",
    "    Filters the game data by regular season ('02') or playoffs ('03').\n",
    "    It checks the 5th and 6th characters of the game ID to determine the game type.\n",
    "    \"\"\"\n",
    "    filtered_games = [game for game in data if str(game['id'])[4:6] == season_type]\n",
    "    return filtered_games\n",
    "\n",
    "def display_event_info(game_data, event_index):\n",
    "    event_data = game_data['plays'][event_index]\n",
    "    event_id = event_data['eventId']\n",
    "    period = event_data['periodDescriptor']['number']\n",
    "    time_in_period = event_data['timeInPeriod']\n",
    "    event_type = event_data['typeDescKey']\n",
    "    \n",
    "    with event_output:\n",
    "        clear_output(wait=True)\n",
    "        print(f\"Event ID: {event_id}\")\n",
    "        print(f\"Period: {period}\")\n",
    "        print(f\"Time in Period: {time_in_period}\")\n",
    "        print(f\"Event Type: {event_type}\")\n",
    "        \n",
    "        if 'details' in event_data:\n",
    "            details = event_data['details']\n",
    "            if 'xCoord' in details and 'yCoord' in details:\n",
    "                print(f\"Event Position: x={details['xCoord']}, y={details['yCoord']}\")\n",
    "                transformed_x, transformed_y = transform_coordinates(details['xCoord'], details['yCoord'])\n",
    "                display_rink_image(transformed_x, transformed_y)\n",
    "            else:\n",
    "                display_rink_image()\n",
    "\n",
    "            if 'reason' in details:\n",
    "                print(f\"Reason: {details['reason']}\")\n",
    "            if 'winningPlayerId' in details:\n",
    "                print(f\"Winning Player ID: {details['winningPlayerId']}\")\n",
    "            if 'losingPlayerId' in details:\n",
    "                print(f\"Losing Player ID: {details['losingPlayerId']}\")\n",
    "            if 'shootingPlayerId' in details:\n",
    "                print(f\"Shooting Player ID: {details['shootingPlayerId']}\")\n",
    "            if 'goalieInNetId' in details:\n",
    "                print(f\"Goalie in Net ID: {details['goalieInNetId']}\")\n",
    "            if 'hittingPlayerId' in details:\n",
    "                print(f\"Hitting Player ID: {details['hittingPlayerId']}\")\n",
    "            if 'hitteePlayerId' in details:\n",
    "                print(f\"Hittee Player ID: {details['hitteePlayerId']}\")\n",
    "            if 'blockingPlayerId' in details:\n",
    "                print(f\"Blocking Player ID: {details['blockingPlayerId']}\")\n",
    "        else:\n",
    "            display_rink_image()\n",
    "\n",
    "        print(\"\\nJSON:\")\n",
    "        print(json.dumps(event_data, indent=4)) \n",
    "\n",
    "def display_game_info(season, game_index):\n",
    "    data = load_season_data(season)\n",
    "    season_type = season_type_selector.value\n",
    "    filtered_game_data = filter_games_by_type(data, season_type)\n",
    "    \n",
    "    game_data = filtered_game_data[game_index]\n",
    "    \n",
    "    with match_output:\n",
    "        clear_output(wait=True)\n",
    "        print(f\"Game ID: {game_data['id']}\")\n",
    "        print(f\"Date: {game_data['gameDate']}\")\n",
    "        print(f\"Home Team: {game_data['homeTeam']['name']['default']} (Score: {game_data['homeTeam']['score']})\")\n",
    "        print(f\"Away Team: {game_data['awayTeam']['name']['default']} (Score: {game_data['awayTeam']['score']})\")\n",
    "        print(f\"Venue: {game_data['venue']['default']} - {game_data['venueLocation']['default']}\")\n",
    "        print(f\"Start Time (UTC): {game_data['startTimeUTC']}\")\n",
    "    \n",
    "    event_slider.max = len(game_data['plays']) - 1\n",
    "    event_slider.value = 0\n",
    "    \n",
    "    def update_event_output(*args):\n",
    "        display_event_info(game_data, event_slider.value)\n",
    "    \n",
    "    event_slider.observe(update_event_output, names='value')\n",
    "    \n",
    "    with slider_output:\n",
    "        clear_output(wait=True)\n",
    "        display(event_slider)\n",
    "\n",
    "def transform_coordinates(x, y):\n",
    "    transformed_x = ((x - rink_x_min) / (rink_x_max - rink_x_min)) * rink_width\n",
    "    transformed_y = rink_height - ((y - rink_y_min) / (rink_y_max - rink_y_min) * rink_height)\n",
    "    return transformed_x, transformed_y\n",
    "\n",
    "def display_rink_image(xCoord=None, yCoord=None):\n",
    "    fig, ax = plt.subplots(figsize=(8, 4))\n",
    "    img = mpimg.imread(rink_image_path)\n",
    "    \n",
    "    ax.imshow(img, extent=[0, rink_width, 0, rink_height])\n",
    "\n",
    "    if xCoord is not None and yCoord is not None:\n",
    "        ax.plot(xCoord, yCoord, 'go', markersize=8, label=\"Event Position\")\n",
    "        ax.legend()\n",
    "\n",
    "    ax.set_xlim(0, rink_width)  \n",
    "    ax.set_ylim(rink_height, 0) \n",
    "\n",
    "    ax.axis('off')\n",
    "    plt.show()\n",
    "\n",
    "season_selector = widgets.Dropdown(\n",
    "    options=[2016, 2017, 2018, 2019, 2020, 2021, 2022, 2023], \n",
    "    description='Saison:'\n",
    ")\n",
    "\n",
    "season_type_selector = widgets.Dropdown(\n",
    "    options={'All': 'all', 'Regular Season': '02', 'Playoffs': '03'},\n",
    "    description='Season Type:'\n",
    ")\n",
    "\n",
    "game_slider = widgets.IntSlider(\n",
    "    min=0,\n",
    "    max=100,\n",
    "    step=1,\n",
    "    description='Match:'\n",
    ")\n",
    "\n",
    "event_slider = widgets.IntSlider(\n",
    "    min=0,\n",
    "    max=10,\n",
    "    step=1,\n",
    "    description='Event:'\n",
    ")\n",
    "\n",
    "def update_game_slider(*args):\n",
    "    season = season_selector.value\n",
    "    season_type = season_type_selector.value\n",
    "    data = load_season_data(season)\n",
    "    \n",
    "    filtered_data = filter_games_by_type(data, season_type) if season_type != 'all' else data\n",
    "    game_slider.max = len(filtered_data) - 1\n",
    "    game_slider.value = 0\n",
    "\n",
    "def update_game_output(*args):\n",
    "    display_game_info(season_selector.value, game_slider.value)\n",
    "\n",
    "season_selector.observe(update_game_slider, names='value')\n",
    "season_type_selector.observe(update_game_slider, names='value')\n",
    "game_slider.observe(update_game_output, names='value')\n",
    "\n",
    "match_output = widgets.Output()\n",
    "slider_output = widgets.Output()\n",
    "event_output = widgets.Output()\n",
    "\n",
    "display(season_selector, season_type_selector, game_slider, match_output, slider_output, event_output)\n",
    "\n",
    "update_game_slider()\n"
   ]
  }
 ],
 "metadata": {
  "kernelspec": {
   "display_name": "ift6758-project",
   "language": "python",
   "name": "python3"
  },
  "language_info": {
   "codemirror_mode": {
    "name": "ipython",
    "version": 3
   },
   "file_extension": ".py",
   "mimetype": "text/x-python",
   "name": "python",
   "nbconvert_exporter": "python",
   "pygments_lexer": "ipython3",
   "version": "3.12.6"
  }
 },
 "nbformat": 4,
 "nbformat_minor": 2
}
