{
 "cells": [
  {
   "cell_type": "code",
   "execution_count": 16,
   "metadata": {},
   "outputs": [],
   "source": [
    "import json\n",
    "import os\n",
    "import ipywidgets as widgets\n",
    "from IPython.display import display, clear_output"
   ]
  },
  {
   "cell_type": "code",
   "execution_count": 17,
   "metadata": {},
   "outputs": [],
   "source": [
    "data_folder = '../ift6758/data/storage/dump/'\n",
    "\n",
    "def load_season_data(season):\n",
    "    file_path = os.path.join(data_folder, f\"{season}.json\")\n",
    "    with open(file_path, 'r') as f:\n",
    "        data = json.load(f)\n",
    "    return data\n",
    "\n",
    "def display_game_info(season, game_index):\n",
    "    data = load_season_data(season)\n",
    "    \n",
    "    game_data = data[game_index]\n",
    "    \n",
    "    game_id = game_data['id']\n",
    "    game_date = game_data['gameDate']\n",
    "    home_team = game_data['homeTeam']['name']['default']\n",
    "    away_team = game_data['awayTeam']['name']['default']\n",
    "    home_score = game_data['homeTeam']['score']\n",
    "    away_score = game_data['awayTeam']['score']\n",
    "    venue = game_data['venue']['default']\n",
    "    venue_location = game_data['venueLocation']['default']\n",
    "    start_time = game_data['startTimeUTC']\n",
    "    \n",
    "    with output:\n",
    "        clear_output()\n",
    "        print(f\"Game ID: {game_id}\")\n",
    "        print(f\"Date: {game_date}\")\n",
    "        print(f\"Start Time (UTC): {start_time}\")\n",
    "        print(f\"Venue: {venue} ({venue_location})\")\n",
    "        print(f\"Home Team: {home_team} (Score: {home_score})\")\n",
    "        print(f\"Away Team: {away_team} (Score: {away_score})\")\n",
    "        \n",
    "        print(f\"\\nShots on Goal: {home_team} - {game_data['homeTeam']['sog']}, {away_team} - {game_data['awayTeam']['sog']}\")\n",
    "\n",
    "        if game_data.get('shootoutInUse'):\n",
    "            home_so_goals = game_data['homeTeam'].get('shootoutGoals', 0)\n",
    "            away_so_goals = game_data['awayTeam'].get('shootoutGoals', 0)\n",
    "            home_so_attempts = game_data['homeTeam'].get('shootoutAttempts', 0)\n",
    "            away_so_attempts = game_data['awayTeam'].get('shootoutAttempts', 0)\n",
    "            print(f\"\\nShootout Goals: {home_team} - {home_so_goals}, {away_team} - {away_so_goals}\")\n",
    "            print(f\"Shootout Attempts: {home_team} - {home_so_attempts}, {away_team} - {away_so_attempts}\")\n",
    "\n",
    "def on_select(season, game_index):\n",
    "    display_game_info(season, game_index)\n",
    "\n",
    "season_selector = widgets.Dropdown(\n",
    "    options=[2016, 2017, 2018, 2019, 2020, 2021, 2022, 2023], \n",
    "    description='Saison:',\n",
    ")\n",
    "\n",
    "game_slider = widgets.IntSlider(\n",
    "    min=0,\n",
    "    max=100,  # will be updated based on season selection\n",
    "    step=1,\n",
    "    description='Match:',\n",
    ")\n",
    "\n",
    "# update slider (# of games) based on season selection\n",
    "def update_slider(*args):\n",
    "    season = season_selector.value\n",
    "    data = load_season_data(season)\n",
    "    game_slider.max = len(data) - 1  \n",
    "    game_slider.value = 0  \n",
    "\n",
    "def update_output(*args):\n",
    "    on_select(season_selector.value, game_slider.value)"
   ]
  },
  {
   "cell_type": "code",
   "execution_count": 18,
   "metadata": {},
   "outputs": [
    {
     "data": {
      "application/vnd.jupyter.widget-view+json": {
       "model_id": "41bb4c65c73f4982bfc866e7d9a28fc3",
       "version_major": 2,
       "version_minor": 0
      },
      "text/plain": [
       "Dropdown(description='Saison:', options=(2016, 2017, 2018, 2019, 2020, 2021, 2022, 2023), value=2016)"
      ]
     },
     "metadata": {},
     "output_type": "display_data"
    },
    {
     "data": {
      "application/vnd.jupyter.widget-view+json": {
       "model_id": "247e35074e094350a7680f40273265f3",
       "version_major": 2,
       "version_minor": 0
      },
      "text/plain": [
       "IntSlider(value=0, description='Match:')"
      ]
     },
     "metadata": {},
     "output_type": "display_data"
    },
    {
     "data": {
      "application/vnd.jupyter.widget-view+json": {
       "model_id": "8e0bd30d47834bdc8962c15756d19b04",
       "version_major": 2,
       "version_minor": 0
      },
      "text/plain": [
       "Output()"
      ]
     },
     "metadata": {},
     "output_type": "display_data"
    }
   ],
   "source": [
    "season_selector.observe(update_slider, names='value')\n",
    "game_slider.observe(update_output, names='value')\n",
    "\n",
    "output = widgets.Output()\n",
    "\n",
    "display(season_selector, game_slider, output)\n",
    "\n",
    "update_slider()"
   ]
  }
 ],
 "metadata": {
  "kernelspec": {
   "display_name": "Python 3",
   "language": "python",
   "name": "python3"
  },
  "language_info": {
   "codemirror_mode": {
    "name": "ipython",
    "version": 3
   },
   "file_extension": ".py",
   "mimetype": "text/x-python",
   "name": "python",
   "nbconvert_exporter": "python",
   "pygments_lexer": "ipython3",
   "version": "3.12.6"
  }
 },
 "nbformat": 4,
 "nbformat_minor": 2
}
