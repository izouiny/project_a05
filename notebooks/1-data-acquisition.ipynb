{
 "cells": [
  {
   "metadata": {},
   "cell_type": "markdown",
   "source": [
    "# Data acquisition\n",
    "\n",
    "The following notebook is used to acquire the data from the API and creates a Pandas DataFrame for each of the datasets. The datasets are then saved to disk for further processing.\n",
    "\n",
    "## Get raw data from API\n",
    "\n",
    "This will get the data from the API and store the dump in the `ift6758/data/storage/dump` directory.\n"
   ],
   "id": "566f7e6cf19e818b"
  },
  {
   "cell_type": "code",
   "id": "initial_id",
   "metadata": {
    "collapsed": true
   },
   "source": [
    "from ift6758.data import fetch_all_seasons_games_data\n",
    "\n",
    "# This process takes a few minutes / hours\n",
    "fetch_all_seasons_games_data()"
   ],
   "outputs": [],
   "execution_count": null
  },
  {
   "metadata": {},
   "cell_type": "markdown",
   "source": [
    "This also stores every single API response in the `ift6758/data/storage/cache` directory.\n",
    "Once the raw data are stored in the `ift6758/data/storage/dump` directory, you can clear the cache.\n",
    "Run the following cell to clear the data."
   ],
   "id": "b71dd58b4dc9a675"
  },
  {
   "metadata": {},
   "cell_type": "code",
   "source": [
    "from ift6758.data import clear_cache\n",
    "\n",
    "clear_cache()"
   ],
   "id": "7251fc19e154f502",
   "outputs": [],
   "execution_count": null
  },
  {
   "metadata": {},
   "cell_type": "markdown",
   "source": [
    "\n",
    "## Load raw data\n",
    "\n",
    "Now all the season data are stored in the `ift6758/data/storage/dump` directory, we can load them into objects."
   ],
   "id": "c484287f857ea7e0"
  },
  {
   "metadata": {},
   "cell_type": "code",
   "source": [
    "from ift6758.data import load_raw_games_data\n",
    "\n",
    "# You can pass a season number (first year) as argument to load only one season\n",
    "data = load_raw_games_data() \n",
    "print(len(data))"
   ],
   "id": "4d915826d12a5812",
   "outputs": [],
   "execution_count": null
  },
  {
   "metadata": {},
   "cell_type": "markdown",
   "source": [
    "## Load flattened data\n",
    "\n",
    "Extract features from raw data set and convert in records\n"
   ],
   "id": "c0ab78e7e8b6c6a0"
  },
  {
   "metadata": {},
   "cell_type": "code",
   "source": [
    "from ift6758.data import load_events_records\n",
    "\n",
    "# You can pass a season number (first year) as argument to load only one season\n",
    "data = load_events_records()\n",
    "print(data[0])"
   ],
   "id": "6db33b4d62710dd8",
   "outputs": [],
   "execution_count": null
  },
  {
   "metadata": {},
   "cell_type": "markdown",
   "source": [
    "\n",
    "## Load dataframe\n",
    "\n",
    "Extract features from raw data set and convert in Panda's Dataframe"
   ],
   "id": "d6be0ff6dc0fde99"
  },
  {
   "metadata": {
    "ExecuteTime": {
     "end_time": "2024-11-11T13:46:14.208592Z",
     "start_time": "2024-11-11T13:46:01.350051Z"
    }
   },
   "cell_type": "code",
   "source": [
    "from ift6758.data import load_events_dataframe\n",
    "\n",
    "# You can pass a season number (first year) as argument to load only one season\n",
    "df = load_events_dataframe()"
   ],
   "id": "6889326c0eda5d03",
   "outputs": [],
   "execution_count": null
  },
  {
   "metadata": {
    "ExecuteTime": {
     "end_time": "2024-11-11T13:14:00.996776Z",
     "start_time": "2024-11-11T13:14:00.528116Z"
    }
   },
   "cell_type": "code",
   "source": [
    "print(\"goal_distance is null:\", len(df.loc[df['goal_distance'].isnull()]))\n",
    "print(\"goal_distance is 0:\", len(df.loc[df['goal_distance'] == 0]))\n",
    "print(\"wrong goal side offensive:\", len(df.loc[df['zone_code'] == \"O\"].loc[df['goal_x_coord'] * df['x_coord'] < 0]))\n",
    "print(\"wrong goal side defense:\", len(df.loc[df['zone_code'] == \"D\"].loc[df['goal_x_coord'] * df['x_coord'] > 0]))\n",
    "print(\"is empty net:\", len(df.loc[df['is_empty_net'] == 1]))"
   ],
   "id": "d865f5aab3eacb7e",
   "outputs": [
    {
     "name": "stdout",
     "output_type": "stream",
     "text": [
      "goal_distance is null: 0\n",
      "goal_distance is 0: 23\n",
      "wrong goal side offensive: 164\n",
      "wrong goal side defense: 456\n",
      "is empty net: 17361\n"
     ]
    }
   ],
   "execution_count": 6
  },
  {
   "metadata": {
    "ExecuteTime": {
     "end_time": "2024-11-11T13:55:51.264860Z",
     "start_time": "2024-11-11T13:55:28.132447Z"
    }
   },
   "cell_type": "code",
   "source": [
    "from ift6758.data import load_train_test_dataframes\n",
    "\n",
    "train, test = load_train_test_dataframes()\n",
    "test.head()"
   ],
   "id": "47ab82b6ad647d5f",
   "outputs": [
    {
     "name": "stdout",
     "output_type": "stream",
     "text": [
      "Found 80399 events\n",
      "Found 87137 events\n",
      "Found 85939 events\n",
      "Found 73867 events\n",
      "Found 57734 events\n"
     ]
    },
    {
     "data": {
      "text/plain": [
       "      game_id    season  game_type   game_date               venue  \\\n",
       "0  2020020001  20202021          2  2021-01-13  Wells Fargo Center   \n",
       "1  2020020001  20202021          2  2021-01-13  Wells Fargo Center   \n",
       "2  2020020001  20202021          2  2021-01-13  Wells Fargo Center   \n",
       "3  2020020001  20202021          2  2021-01-13  Wells Fargo Center   \n",
       "4  2020020001  20202021          2  2021-01-13  Wells Fargo Center   \n",
       "\n",
       "  venue_location  away_team_id away_team_abbrev away_team_name  home_team_id  \\\n",
       "0   Philadelphia             5              PIT       Penguins             4   \n",
       "1   Philadelphia             5              PIT       Penguins             4   \n",
       "2   Philadelphia             5              PIT       Penguins             4   \n",
       "3   Philadelphia             5              PIT       Penguins             4   \n",
       "4   Philadelphia             5              PIT       Penguins             4   \n",
       "\n",
       "   ... scoring_player_team_id scoring_player_position_code  assist1_player_id  \\\n",
       "0  ...                    NaN                          NaN                NaN   \n",
       "1  ...                    NaN                          NaN                NaN   \n",
       "2  ...                    NaN                          NaN                NaN   \n",
       "3  ...                    NaN                          NaN                NaN   \n",
       "4  ...                    NaN                          NaN                NaN   \n",
       "\n",
       "   assist1_player_name  assist1_player_team_id  assist1_player_position_code  \\\n",
       "0                  NaN                     NaN                           NaN   \n",
       "1                  NaN                     NaN                           NaN   \n",
       "2                  NaN                     NaN                           NaN   \n",
       "3                  NaN                     NaN                           NaN   \n",
       "4                  NaN                     NaN                           NaN   \n",
       "\n",
       "  assist2_player_id  assist2_player_name assist2_player_team_id  \\\n",
       "0               NaN                  NaN                    NaN   \n",
       "1               NaN                  NaN                    NaN   \n",
       "2               NaN                  NaN                    NaN   \n",
       "3               NaN                  NaN                    NaN   \n",
       "4               NaN                  NaN                    NaN   \n",
       "\n",
       "  assist2_player_position_code  \n",
       "0                          NaN  \n",
       "1                          NaN  \n",
       "2                          NaN  \n",
       "3                          NaN  \n",
       "4                          NaN  \n",
       "\n",
       "[5 rows x 61 columns]"
      ],
      "text/html": [
       "<div>\n",
       "<style scoped>\n",
       "    .dataframe tbody tr th:only-of-type {\n",
       "        vertical-align: middle;\n",
       "    }\n",
       "\n",
       "    .dataframe tbody tr th {\n",
       "        vertical-align: top;\n",
       "    }\n",
       "\n",
       "    .dataframe thead th {\n",
       "        text-align: right;\n",
       "    }\n",
       "</style>\n",
       "<table border=\"1\" class=\"dataframe\">\n",
       "  <thead>\n",
       "    <tr style=\"text-align: right;\">\n",
       "      <th></th>\n",
       "      <th>game_id</th>\n",
       "      <th>season</th>\n",
       "      <th>game_type</th>\n",
       "      <th>game_date</th>\n",
       "      <th>venue</th>\n",
       "      <th>venue_location</th>\n",
       "      <th>away_team_id</th>\n",
       "      <th>away_team_abbrev</th>\n",
       "      <th>away_team_name</th>\n",
       "      <th>home_team_id</th>\n",
       "      <th>...</th>\n",
       "      <th>scoring_player_team_id</th>\n",
       "      <th>scoring_player_position_code</th>\n",
       "      <th>assist1_player_id</th>\n",
       "      <th>assist1_player_name</th>\n",
       "      <th>assist1_player_team_id</th>\n",
       "      <th>assist1_player_position_code</th>\n",
       "      <th>assist2_player_id</th>\n",
       "      <th>assist2_player_name</th>\n",
       "      <th>assist2_player_team_id</th>\n",
       "      <th>assist2_player_position_code</th>\n",
       "    </tr>\n",
       "  </thead>\n",
       "  <tbody>\n",
       "    <tr>\n",
       "      <th>0</th>\n",
       "      <td>2020020001</td>\n",
       "      <td>20202021</td>\n",
       "      <td>2</td>\n",
       "      <td>2021-01-13</td>\n",
       "      <td>Wells Fargo Center</td>\n",
       "      <td>Philadelphia</td>\n",
       "      <td>5</td>\n",
       "      <td>PIT</td>\n",
       "      <td>Penguins</td>\n",
       "      <td>4</td>\n",
       "      <td>...</td>\n",
       "      <td>NaN</td>\n",
       "      <td>NaN</td>\n",
       "      <td>NaN</td>\n",
       "      <td>NaN</td>\n",
       "      <td>NaN</td>\n",
       "      <td>NaN</td>\n",
       "      <td>NaN</td>\n",
       "      <td>NaN</td>\n",
       "      <td>NaN</td>\n",
       "      <td>NaN</td>\n",
       "    </tr>\n",
       "    <tr>\n",
       "      <th>1</th>\n",
       "      <td>2020020001</td>\n",
       "      <td>20202021</td>\n",
       "      <td>2</td>\n",
       "      <td>2021-01-13</td>\n",
       "      <td>Wells Fargo Center</td>\n",
       "      <td>Philadelphia</td>\n",
       "      <td>5</td>\n",
       "      <td>PIT</td>\n",
       "      <td>Penguins</td>\n",
       "      <td>4</td>\n",
       "      <td>...</td>\n",
       "      <td>NaN</td>\n",
       "      <td>NaN</td>\n",
       "      <td>NaN</td>\n",
       "      <td>NaN</td>\n",
       "      <td>NaN</td>\n",
       "      <td>NaN</td>\n",
       "      <td>NaN</td>\n",
       "      <td>NaN</td>\n",
       "      <td>NaN</td>\n",
       "      <td>NaN</td>\n",
       "    </tr>\n",
       "    <tr>\n",
       "      <th>2</th>\n",
       "      <td>2020020001</td>\n",
       "      <td>20202021</td>\n",
       "      <td>2</td>\n",
       "      <td>2021-01-13</td>\n",
       "      <td>Wells Fargo Center</td>\n",
       "      <td>Philadelphia</td>\n",
       "      <td>5</td>\n",
       "      <td>PIT</td>\n",
       "      <td>Penguins</td>\n",
       "      <td>4</td>\n",
       "      <td>...</td>\n",
       "      <td>NaN</td>\n",
       "      <td>NaN</td>\n",
       "      <td>NaN</td>\n",
       "      <td>NaN</td>\n",
       "      <td>NaN</td>\n",
       "      <td>NaN</td>\n",
       "      <td>NaN</td>\n",
       "      <td>NaN</td>\n",
       "      <td>NaN</td>\n",
       "      <td>NaN</td>\n",
       "    </tr>\n",
       "    <tr>\n",
       "      <th>3</th>\n",
       "      <td>2020020001</td>\n",
       "      <td>20202021</td>\n",
       "      <td>2</td>\n",
       "      <td>2021-01-13</td>\n",
       "      <td>Wells Fargo Center</td>\n",
       "      <td>Philadelphia</td>\n",
       "      <td>5</td>\n",
       "      <td>PIT</td>\n",
       "      <td>Penguins</td>\n",
       "      <td>4</td>\n",
       "      <td>...</td>\n",
       "      <td>NaN</td>\n",
       "      <td>NaN</td>\n",
       "      <td>NaN</td>\n",
       "      <td>NaN</td>\n",
       "      <td>NaN</td>\n",
       "      <td>NaN</td>\n",
       "      <td>NaN</td>\n",
       "      <td>NaN</td>\n",
       "      <td>NaN</td>\n",
       "      <td>NaN</td>\n",
       "    </tr>\n",
       "    <tr>\n",
       "      <th>4</th>\n",
       "      <td>2020020001</td>\n",
       "      <td>20202021</td>\n",
       "      <td>2</td>\n",
       "      <td>2021-01-13</td>\n",
       "      <td>Wells Fargo Center</td>\n",
       "      <td>Philadelphia</td>\n",
       "      <td>5</td>\n",
       "      <td>PIT</td>\n",
       "      <td>Penguins</td>\n",
       "      <td>4</td>\n",
       "      <td>...</td>\n",
       "      <td>NaN</td>\n",
       "      <td>NaN</td>\n",
       "      <td>NaN</td>\n",
       "      <td>NaN</td>\n",
       "      <td>NaN</td>\n",
       "      <td>NaN</td>\n",
       "      <td>NaN</td>\n",
       "      <td>NaN</td>\n",
       "      <td>NaN</td>\n",
       "      <td>NaN</td>\n",
       "    </tr>\n",
       "  </tbody>\n",
       "</table>\n",
       "<p>5 rows × 61 columns</p>\n",
       "</div>"
      ]
     },
     "execution_count": 1,
     "metadata": {},
     "output_type": "execute_result"
    }
   ],
   "execution_count": 1
  }
 ],
 "metadata": {
  "kernelspec": {
   "display_name": "Python 3",
   "language": "python",
   "name": "python3"
  },
  "language_info": {
   "codemirror_mode": {
    "name": "ipython",
    "version": 2
   },
   "file_extension": ".py",
   "mimetype": "text/x-python",
   "name": "python",
   "nbconvert_exporter": "python",
   "pygments_lexer": "ipython2",
   "version": "2.7.6"
  }
 },
 "nbformat": 4,
 "nbformat_minor": 5
}
