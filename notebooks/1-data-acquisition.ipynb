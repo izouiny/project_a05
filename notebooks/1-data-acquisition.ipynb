{
 "cells": [
  {
   "metadata": {},
   "cell_type": "markdown",
   "source": [
    "# Data acquisition\n",
    "\n",
    "The following notebook is used to acquire the data from the API and creates a Pandas DataFrame for each of the datasets. The datasets are then saved to disk for further processing.\n",
    "\n",
    "## Get raw data from API\n",
    "\n",
    "This will get the data from the API and store the dump in the `ift6758/data/storage/dump` directory.\n"
   ],
   "id": "566f7e6cf19e818b"
  },
  {
   "cell_type": "code",
   "id": "initial_id",
   "metadata": {
    "collapsed": true
   },
   "source": [
    "from ift6758.data import fetch_all_seasons_games_data\n",
    "\n",
    "# This process takes a few minutes / hours\n",
    "fetch_all_seasons_games_data()"
   ],
   "outputs": [],
   "execution_count": null
  },
  {
   "metadata": {},
   "cell_type": "markdown",
   "source": [
    "This also stores every single API response in the `ift6758/data/storage/cache` directory.\n",
    "Once the raw data are stored in the `ift6758/data/storage/dump` directory, you can clear the cache.\n",
    "Run the following cell to clear the data."
   ],
   "id": "b71dd58b4dc9a675"
  },
  {
   "metadata": {},
   "cell_type": "code",
   "source": [
    "from ift6758.data import clear_cache\n",
    "\n",
    "clear_cache()"
   ],
   "id": "7251fc19e154f502",
   "outputs": [],
   "execution_count": null
  },
  {
   "metadata": {},
   "cell_type": "markdown",
   "source": [
    "\n",
    "## Load raw data\n",
    "\n",
    "Now all the season data are stored in the `ift6758/data/storage/dump` directory, we can load them into objects."
   ],
   "id": "c484287f857ea7e0"
  },
  {
   "metadata": {},
   "cell_type": "code",
   "source": [
    "from ift6758.data import load_raw_games_data\n",
    "\n",
    "# You can pass a season number (first year) as argument to load only one season\n",
    "data = load_raw_games_data() \n",
    "print(len(data))"
   ],
   "id": "4d915826d12a5812",
   "outputs": [],
   "execution_count": null
  },
  {
   "metadata": {},
   "cell_type": "markdown",
   "source": [
    "## Load flattened data\n",
    "\n",
    "Extract features from raw data set and convert in records\n"
   ],
   "id": "c0ab78e7e8b6c6a0"
  },
  {
   "metadata": {},
   "cell_type": "code",
   "source": [
    "from ift6758.data import load_events_records\n",
    "\n",
    "# You can pass a season number (first year) as argument to load only one season\n",
    "data = load_events_records()\n",
    "print(data[0])"
   ],
   "id": "6db33b4d62710dd8",
   "outputs": [],
   "execution_count": null
  },
  {
   "metadata": {},
   "cell_type": "markdown",
   "source": [
    "\n",
    "## Load dataframe\n",
    "\n",
    "Extract features from raw data set and convert in Panda's Dataframe"
   ],
   "id": "d6be0ff6dc0fde99"
  },
  {
   "metadata": {
    "ExecuteTime": {
     "end_time": "2024-10-18T03:02:06.887591Z",
     "start_time": "2024-10-18T03:01:25.993889Z"
    }
   },
   "cell_type": "code",
   "source": [
    "from ift6758.data import load_events_dataframe\n",
    "\n",
    "# You can pass a season number (first year) as argument to load only one season\n",
    "df = load_events_dataframe()"
   ],
   "id": "6889326c0eda5d03",
   "outputs": [
    {
     "name": "stdout",
     "output_type": "stream",
     "text": [
      "Found 647679 events\n"
     ]
    }
   ],
   "execution_count": 1
  },
  {
   "metadata": {
    "ExecuteTime": {
     "end_time": "2024-10-18T03:02:19.004524Z",
     "start_time": "2024-10-18T03:02:18.484920Z"
    }
   },
   "cell_type": "code",
   "source": [
    "print(\"goal_distance is null:\", len(df.loc[df['goal_distance'].isnull()]))\n",
    "print(\"goal_distance is 0:\", len(df.loc[df['goal_distance'] == 0]))\n",
    "print(\"wrong goal side offensive:\", len(df.loc[df['zone_code'] == \"O\"].loc[df['goal_x_coord'] * df['x_coord'] < 0]))\n",
    "print(\"wrong goal side defense:\", len(df.loc[df['zone_code'] == \"D\"].loc[df['goal_x_coord'] * df['x_coord'] > 0]))"
   ],
   "id": "d865f5aab3eacb7e",
   "outputs": [
    {
     "name": "stdout",
     "output_type": "stream",
     "text": [
      "goal_distance is null: 17\n",
      "goal_distance is 0: 6\n",
      "wrong goal side offensive: 164\n",
      "wrong goal side defense: 456\n"
     ]
    }
   ],
   "execution_count": 3
  }
 ],
 "metadata": {
  "kernelspec": {
   "display_name": "Python 3",
   "language": "python",
   "name": "python3"
  },
  "language_info": {
   "codemirror_mode": {
    "name": "ipython",
    "version": 2
   },
   "file_extension": ".py",
   "mimetype": "text/x-python",
   "name": "python",
   "nbconvert_exporter": "python",
   "pygments_lexer": "ipython2",
   "version": "2.7.6"
  }
 },
 "nbformat": 4,
 "nbformat_minor": 5
}
