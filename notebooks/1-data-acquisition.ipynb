{
 "cells": [
  {
   "metadata": {},
   "cell_type": "markdown",
   "source": [
    "# Data acquisition\n",
    "\n",
    "The following notebook is used to acquire the data from the API and creates a Pandas DataFrame for each of the datasets. The datasets are then saved to disk for further processing.\n",
    "\n",
    "## Get raw data from API\n",
    "\n",
    "This will get the data from the API and store the dump in the `ift6758/data/storage/dump` directory.\n"
   ],
   "id": "566f7e6cf19e818b"
  },
  {
   "cell_type": "code",
   "id": "initial_id",
   "metadata": {
    "collapsed": true
   },
   "source": [
    "from ift6758.data import fetch_all_seasons_games_data\n",
    "\n",
    "# This process takes a few minutes / hours\n",
    "fetch_all_seasons_games_data()"
   ],
   "outputs": [],
   "execution_count": null
  },
  {
   "metadata": {},
   "cell_type": "markdown",
   "source": [
    "This also stores every single API response in the `ift6758/data/storage/cache` directory.\n",
    "Once the raw data are stored in the `ift6758/data/storage/dump` directory, you can clear the cache.\n",
    "Run the following cell to clear the data."
   ],
   "id": "b71dd58b4dc9a675"
  },
  {
   "metadata": {},
   "cell_type": "code",
   "source": [
    "from ift6758.data import clear_cache\n",
    "\n",
    "clear_cache()"
   ],
   "id": "7251fc19e154f502",
   "outputs": [],
   "execution_count": null
  },
  {
   "metadata": {},
   "cell_type": "markdown",
   "source": [
    "\n",
    "## Load raw data\n",
    "\n",
    "Now all the season data are stored in the `ift6758/data/storage/dump` directory, we can load them into objects."
   ],
   "id": "c484287f857ea7e0"
  },
  {
   "metadata": {},
   "cell_type": "code",
   "source": [
    "from ift6758.data import load_raw_games_data\n",
    "\n",
    "# You can pass a season number (first year) as argument to load only one season\n",
    "data = load_raw_games_data() \n",
    "print(len(data))"
   ],
   "id": "4d915826d12a5812",
   "outputs": [],
   "execution_count": null
  },
  {
   "metadata": {},
   "cell_type": "markdown",
   "source": [
    "## Load dataframe\n",
    "\n",
    "Extract features from raw data set and convert in Panda's Dataframe"
   ],
   "id": "d6be0ff6dc0fde99"
  },
  {
   "metadata": {
    "ExecuteTime": {
     "end_time": "2024-09-24T04:40:43.541473Z",
     "start_time": "2024-09-24T04:39:41.933603Z"
    }
   },
   "cell_type": "code",
   "source": [
    "from ift6758.data import load_events_dataframe\n",
    "\n",
    "# You can pass a season number (first year) as argument to load only one season\n",
    "data = load_events_dataframe(2020)\n",
    "print(data.columns)\n",
    "print(data.head(10))"
   ],
   "id": "6889326c0eda5d03",
   "outputs": [
    {
     "name": "stdout",
     "output_type": "stream",
     "text": [
      "Found 647679 events\n",
      "Index(['game_id', 'season', 'game_type', 'game_date', 'venue',\n",
      "       'venue_location', 'away_team_id', 'away_team_abbrev', 'away_team_name',\n",
      "       'home_team_id', 'home_team_abbrev', 'home_team_name', 'event_id',\n",
      "       'period_number', 'period_type', 'time_in_period', 'time_remaining',\n",
      "       'situation_code', 'type_code', 'type_desc_key', 'sort_order', 'x_coord',\n",
      "       'y_coord', 'zone_code', 'shot_type', 'event_owner_team_id',\n",
      "       'goalie_in_net_id', 'goalie_in_net_name', 'goalie_in_net_team_id',\n",
      "       'goalie_in_net_position_code', 'shooting_player_id',\n",
      "       'shooting_player_name', 'shooting_player_team_id',\n",
      "       'shooting_player_position_code', 'scoring_player_id',\n",
      "       'scoring_player_name', 'scoring_player_team_id',\n",
      "       'scoring_player_position_code', 'assist1_player_id',\n",
      "       'assist1_player_name', 'assist1_player_team_id',\n",
      "       'assist1_player_position_code', 'assist2_player_id',\n",
      "       'assist2_player_name', 'assist2_player_team_id',\n",
      "       'assist2_player_position_code'],\n",
      "      dtype='object')\n",
      "       game_id    season  game_type   game_date                 venue  \\\n",
      "0   2016020001  20162017          2  2016-10-12  Canadian Tire Centre   \n",
      "1   2016020001  20162017          2  2016-10-12  Canadian Tire Centre   \n",
      "2   2016020001  20162017          2  2016-10-12  Canadian Tire Centre   \n",
      "3   2016020001  20162017          2  2016-10-12  Canadian Tire Centre   \n",
      "4   2016020001  20162017          2  2016-10-12  Canadian Tire Centre   \n",
      "5   2016020001  20162017          2  2016-10-12  Canadian Tire Centre   \n",
      "6   2016020001  20162017          2  2016-10-12  Canadian Tire Centre   \n",
      "7   2016020001  20162017          2  2016-10-12  Canadian Tire Centre   \n",
      "8   2016020001  20162017          2  2016-10-12  Canadian Tire Centre   \n",
      "9   2016020001  20162017          2  2016-10-12  Canadian Tire Centre   \n",
      "10  2016020001  20162017          2  2016-10-12  Canadian Tire Centre   \n",
      "11  2016020001  20162017          2  2016-10-12  Canadian Tire Centre   \n",
      "12  2016020001  20162017          2  2016-10-12  Canadian Tire Centre   \n",
      "13  2016020001  20162017          2  2016-10-12  Canadian Tire Centre   \n",
      "14  2016020001  20162017          2  2016-10-12  Canadian Tire Centre   \n",
      "15  2016020001  20162017          2  2016-10-12  Canadian Tire Centre   \n",
      "16  2016020001  20162017          2  2016-10-12  Canadian Tire Centre   \n",
      "17  2016020001  20162017          2  2016-10-12  Canadian Tire Centre   \n",
      "18  2016020001  20162017          2  2016-10-12  Canadian Tire Centre   \n",
      "19  2016020001  20162017          2  2016-10-12  Canadian Tire Centre   \n",
      "\n",
      "   venue_location  away_team_id away_team_abbrev away_team_name  home_team_id  \\\n",
      "0          Ottawa            10              TOR    Maple Leafs             9   \n",
      "1          Ottawa            10              TOR    Maple Leafs             9   \n",
      "2          Ottawa            10              TOR    Maple Leafs             9   \n",
      "3          Ottawa            10              TOR    Maple Leafs             9   \n",
      "4          Ottawa            10              TOR    Maple Leafs             9   \n",
      "5          Ottawa            10              TOR    Maple Leafs             9   \n",
      "6          Ottawa            10              TOR    Maple Leafs             9   \n",
      "7          Ottawa            10              TOR    Maple Leafs             9   \n",
      "8          Ottawa            10              TOR    Maple Leafs             9   \n",
      "9          Ottawa            10              TOR    Maple Leafs             9   \n",
      "10         Ottawa            10              TOR    Maple Leafs             9   \n",
      "11         Ottawa            10              TOR    Maple Leafs             9   \n",
      "12         Ottawa            10              TOR    Maple Leafs             9   \n",
      "13         Ottawa            10              TOR    Maple Leafs             9   \n",
      "14         Ottawa            10              TOR    Maple Leafs             9   \n",
      "15         Ottawa            10              TOR    Maple Leafs             9   \n",
      "16         Ottawa            10              TOR    Maple Leafs             9   \n",
      "17         Ottawa            10              TOR    Maple Leafs             9   \n",
      "18         Ottawa            10              TOR    Maple Leafs             9   \n",
      "19         Ottawa            10              TOR    Maple Leafs             9   \n",
      "\n",
      "    ... scoring_player_team_id scoring_player_position_code  \\\n",
      "0   ...                    NaN                          NaN   \n",
      "1   ...                    NaN                          NaN   \n",
      "2   ...                    NaN                          NaN   \n",
      "3   ...                    NaN                          NaN   \n",
      "4   ...                    NaN                          NaN   \n",
      "5   ...                    NaN                          NaN   \n",
      "6   ...                   10.0                            C   \n",
      "7   ...                    NaN                          NaN   \n",
      "8   ...                    NaN                          NaN   \n",
      "9   ...                    NaN                          NaN   \n",
      "10  ...                    NaN                          NaN   \n",
      "11  ...                    9.0                            R   \n",
      "12  ...                    NaN                          NaN   \n",
      "13  ...                    NaN                          NaN   \n",
      "14  ...                    9.0                            D   \n",
      "15  ...                   10.0                            C   \n",
      "16  ...                    NaN                          NaN   \n",
      "17  ...                    NaN                          NaN   \n",
      "18  ...                    NaN                          NaN   \n",
      "19  ...                    NaN                          NaN   \n",
      "\n",
      "    assist1_player_id assist1_player_name assist1_player_team_id  \\\n",
      "0                 NaN                 NaN                    NaN   \n",
      "1                 NaN                 NaN                    NaN   \n",
      "2                 NaN                 NaN                    NaN   \n",
      "3                 NaN                 NaN                    NaN   \n",
      "4                 NaN                 NaN                    NaN   \n",
      "5                 NaN                 NaN                    NaN   \n",
      "6           8475786.0          Zach Hyman                   10.0   \n",
      "7                 NaN                 NaN                    NaN   \n",
      "8                 NaN                 NaN                    NaN   \n",
      "9                 NaN                 NaN                    NaN   \n",
      "10                NaN                 NaN                    NaN   \n",
      "11          8474578.0       Erik Karlsson                    9.0   \n",
      "12                NaN                 NaN                    NaN   \n",
      "13                NaN                 NaN                    NaN   \n",
      "14          8473544.0     Derick Brassard                    9.0   \n",
      "15                NaN                 NaN                    NaN   \n",
      "16                NaN                 NaN                    NaN   \n",
      "17                NaN                 NaN                    NaN   \n",
      "18                NaN                 NaN                    NaN   \n",
      "19                NaN                 NaN                    NaN   \n",
      "\n",
      "   assist1_player_position_code assist2_player_id assist2_player_name  \\\n",
      "0                           NaN               NaN                 NaN   \n",
      "1                           NaN               NaN                 NaN   \n",
      "2                           NaN               NaN                 NaN   \n",
      "3                           NaN               NaN                 NaN   \n",
      "4                           NaN               NaN                 NaN   \n",
      "5                           NaN               NaN                 NaN   \n",
      "6                             C         8477939.0    William Nylander   \n",
      "7                           NaN               NaN                 NaN   \n",
      "8                           NaN               NaN                 NaN   \n",
      "9                           NaN               NaN                 NaN   \n",
      "10                          NaN               NaN                 NaN   \n",
      "11                            D         8474250.0          Zack Smith   \n",
      "12                          NaN               NaN                 NaN   \n",
      "13                          NaN               NaN                 NaN   \n",
      "14                            C         8471676.0          Bobby Ryan   \n",
      "15                          NaN               NaN                 NaN   \n",
      "16                          NaN               NaN                 NaN   \n",
      "17                          NaN               NaN                 NaN   \n",
      "18                          NaN               NaN                 NaN   \n",
      "19                          NaN               NaN                 NaN   \n",
      "\n",
      "    assist2_player_team_id assist2_player_position_code  \n",
      "0                      NaN                          NaN  \n",
      "1                      NaN                          NaN  \n",
      "2                      NaN                          NaN  \n",
      "3                      NaN                          NaN  \n",
      "4                      NaN                          NaN  \n",
      "5                      NaN                          NaN  \n",
      "6                     10.0                            C  \n",
      "7                      NaN                          NaN  \n",
      "8                      NaN                          NaN  \n",
      "9                      NaN                          NaN  \n",
      "10                     NaN                          NaN  \n",
      "11                     9.0                            C  \n",
      "12                     NaN                          NaN  \n",
      "13                     NaN                          NaN  \n",
      "14                     9.0                            R  \n",
      "15                     NaN                          NaN  \n",
      "16                     NaN                          NaN  \n",
      "17                     NaN                          NaN  \n",
      "18                     NaN                          NaN  \n",
      "19                     NaN                          NaN  \n",
      "\n",
      "[20 rows x 46 columns]\n"
     ]
    }
   ],
   "execution_count": 2
  }
 ],
 "metadata": {
  "kernelspec": {
   "display_name": "Python 3",
   "language": "python",
   "name": "python3"
  },
  "language_info": {
   "codemirror_mode": {
    "name": "ipython",
    "version": 2
   },
   "file_extension": ".py",
   "mimetype": "text/x-python",
   "name": "python",
   "nbconvert_exporter": "python",
   "pygments_lexer": "ipython2",
   "version": "2.7.6"
  }
 },
 "nbformat": 4,
 "nbformat_minor": 5
}
